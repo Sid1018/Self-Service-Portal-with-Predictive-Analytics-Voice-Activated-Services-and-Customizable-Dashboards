{
  "nbformat": 4,
  "nbformat_minor": 0,
  "metadata": {
    "colab": {
      "provenance": []
    },
    "kernelspec": {
      "name": "python3",
      "display_name": "Python 3"
    },
    "language_info": {
      "name": "python"
    }
  },
  "cells": [
    {
      "cell_type": "markdown",
      "source": [
        "We will use Flask and a JavaScript library like Chart.js to create customizable public dashboards."
      ],
      "metadata": {
        "id": "Anlh_y0tAh9I"
      }
    },
    {
      "cell_type": "code",
      "execution_count": null,
      "metadata": {
        "id": "j1s4eiLG-qL_"
      },
      "outputs": [],
      "source": [
        "# Install necessary libraries\n",
        "!pip install flask-ngrok\n",
        "\n",
        "from flask import Flask, render_template\n",
        "from flask_ngrok import run_with_ngrok\n",
        "\n",
        "# HTML template for the dashboard\n",
        "dashboard_html = \"\"\"\n",
        "<!DOCTYPE html>\n",
        "<html>\n",
        "<head>\n",
        "    <title>Public Dashboard</title>\n",
        "    <script src=\"https://cdn.jsdelivr.net/npm/chart.js\"></script>\n",
        "</head>\n",
        "<body>\n",
        "    <h1>Public Dashboard</h1>\n",
        "    <canvas id=\"statusChart\" width=\"400\" height=\"200\"></canvas>\n",
        "    <script>\n",
        "        var ctx = document.getElementById('statusChart').getContext('2d');\n",
        "        var statusChart = new Chart(ctx, {\n",
        "            type: 'bar',\n",
        "            data: {\n",
        "                labels: ['Approved', 'Denied'],\n",
        "                datasets: [{\n",
        "                    label: '# of Applications',\n",
        "                    data: [12, 19],\n",
        "                    backgroundColor: [\n",
        "                        'rgba(75, 192, 192, 0.2)',\n",
        "                        'rgba(255, 99, 132, 0.2)'\n",
        "                    ],\n",
        "                    borderColor: [\n",
        "                        'rgba(75, 192, 192, 1)',\n",
        "                        'rgba(255, 99, 132, 1)'\n",
        "                    ],\n",
        "                    borderWidth: 1\n",
        "                }]\n",
        "            },\n",
        "            options: {\n",
        "                scales: {\n",
        "                    y: {\n",
        "                        beginAtZero: true\n",
        "                    }\n",
        "                }\n",
        "            }\n",
        "        });\n",
        "    </script>\n",
        "</body>\n",
        "</html>\n",
        "\"\"\"\n",
        "\n",
        "# Save the HTML template\n",
        "with open('templates/dashboard.html', 'w') as f:\n",
        "    f.write(dashboard_html)\n",
        "\n",
        "# Flask app for public dashboards\n",
        "app = Flask(__name__)\n",
        "run_with_ngrok(app)\n",
        "\n",
        "@app.route('/')\n",
        "def dashboard():\n",
        "    return render_template('dashboard.html')\n",
        "\n",
        "app.run()\n"
      ]
    }
  ]
}